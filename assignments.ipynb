{
 "cells": [
  {
   "cell_type": "code",
   "execution_count": 5,
   "metadata": {},
   "outputs": [
    {
     "data": {
      "text/plain": [
       "{'best_investments': [{'investment': 'Tesla', 'revenue': 24000, 'cost': 8000},\n",
       "  {'investment': 'Microsoft', 'revenue': 19600, 'cost': 5800}],\n",
       " 'available_balance': 6200}"
      ]
     },
     "execution_count": 5,
     "metadata": {},
     "output_type": "execute_result"
    }
   ],
   "source": [
    "data = {'investments': [{'investment': 'Tesla', 'revenue': 24000, 'cost': 8000}, \n",
    "                        {'investment': 'Google', 'revenue': 20000, 'cost': 6400}, \n",
    "                        {'investment': 'Microsoft', 'revenue': 19600, 'cost': 5800}, \n",
    "                        {'investment': 'Applee', 'revenue': 21300, 'cost': 8120}, \n",
    "                        {'investment': 'IBM', 'revenue': 17400, 'cost': 9180}], 'available_fund': 20000}\n",
    "\n",
    "investments, available_fund = [data['investments'], data['available_fund']]\n",
    "\n",
    "def optimize_investments(investments: list, available: int or float) -> dict:\n",
    "    \"\"\"uses a greedy approach to determine the best investments to make based on the available investments and available capital\"\"\"\n",
    "    \n",
    "    best_investments: list = []\n",
    "    \n",
    "    best_investment =  best_investment_choice(investments, available)\n",
    "    while best_investment is not None:\n",
    "        best = investments.pop(investments.index(best_investment))\n",
    "        best_investments.append(best)\n",
    "        available -= best['cost']\n",
    "        best_investment =  best_investment_choice(investments, available)\n",
    "        \n",
    "    return {\"best_investments\": best_investments, \"available_balance\": available}\n",
    "\n",
    "\n",
    "def best_investment_choice(investments, available):\n",
    "    best_investment = None\n",
    "    best_worth = 0\n",
    "    for investment in investments:\n",
    "        if investment[\"revenue\"] - investment[\"cost\"] > best_worth and investment[\"cost\"] <= available:\n",
    "            best_investment = investment\n",
    "            best_worth = investment[\"revenue\"] - investment[\"cost\"]\n",
    "    \n",
    "    return best_investment\n",
    "            \n",
    "optimize_investments(investments, available_fund)"
   ]
  },
  {
   "cell_type": "code",
   "execution_count": null,
   "metadata": {},
   "outputs": [],
   "source": []
  }
 ],
 "metadata": {
  "interpreter": {
   "hash": "ac59ebe37160ed0dfa835113d9b8498d9f09ceb179beaac4002f036b9467c963"
  },
  "kernelspec": {
   "display_name": "Python 3.9.4 64-bit",
   "name": "python3"
  },
  "language_info": {
   "codemirror_mode": {
    "name": "ipython",
    "version": 3
   },
   "file_extension": ".py",
   "mimetype": "text/x-python",
   "name": "python",
   "nbconvert_exporter": "python",
   "pygments_lexer": "ipython3",
   "version": "3.9.4"
  },
  "orig_nbformat": 4
 },
 "nbformat": 4,
 "nbformat_minor": 2
}
